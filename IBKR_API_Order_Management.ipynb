{
 "cells": [
  {
   "cell_type": "code",
   "execution_count": 1,
   "metadata": {},
   "outputs": [],
   "source": [
    "from ib_insync import *\n",
    "#ib.disconnect() # disconnect old connection\n",
    "#IB.waitOnUpdate(timeout=0.1) # make sure wrapper get it somehow\n",
    "util.startLoop() # connect"
   ]
  },
  {
   "cell_type": "code",
   "execution_count": 2,
   "metadata": {},
   "outputs": [],
   "source": [
    "import pandas as pd\n",
    "import numpy as np\n",
    "from IPython.display import display, clear_output\n",
    "import matplotlib.pyplot as plt\n",
    "import pandas_ta as ta"
   ]
  },
  {
   "cell_type": "code",
   "execution_count": 4,
   "metadata": {},
   "outputs": [
    {
     "data": {
      "text/plain": [
       "<IB connected to 127.0.0.1:7497 clientId=1>"
      ]
     },
     "execution_count": 4,
     "metadata": {},
     "output_type": "execute_result"
    }
   ],
   "source": [
    "ib = IB()\n",
    "ib.connect(host='127.0.0.1', port=7497, clientId=1)"
   ]
  },
  {
   "cell_type": "code",
   "execution_count": 7,
   "metadata": {},
   "outputs": [],
   "source": [
    "contract = Forex('EURUSD', 'IDEALPRO')\n",
    "order = LimitOrder('BUY', 100, 1.11)"
   ]
  },
  {
   "cell_type": "code",
   "execution_count": 8,
   "metadata": {},
   "outputs": [
    {
     "data": {
      "text/plain": [
       "ib_insync.order.LimitOrder"
      ]
     },
     "execution_count": 8,
     "metadata": {},
     "output_type": "execute_result"
    }
   ],
   "source": [
    "type(order)"
   ]
  },
  {
   "cell_type": "code",
   "execution_count": 9,
   "metadata": {},
   "outputs": [],
   "source": [
    "trade = ib.placeOrder(contract, order)"
   ]
  },
  {
   "cell_type": "code",
   "execution_count": 10,
   "metadata": {},
   "outputs": [
    {
     "data": {
      "text/plain": [
       "Trade(contract=Forex('EURUSD', exchange='IDEALPRO'), order=LimitOrder(orderId=3, clientId=1, permId=1208980821, action='BUY', totalQuantity=100.0, lmtPrice=1.11, auxPrice=0.0), orderStatus=OrderStatus(orderId=3, status='PendingCancel', filled=0.0, remaining=100.0, avgFillPrice=0.0, permId=1208980821, parentId=0, lastFillPrice=0.0, clientId=1, whyHeld='', mktCapPrice=0.0), fills=[], log=[TradeLogEntry(time=datetime.datetime(2022, 3, 27, 14, 29, 57, 526910, tzinfo=datetime.timezone.utc), status='PendingSubmit', message='', errorCode=0), TradeLogEntry(time=datetime.datetime(2022, 3, 27, 14, 30, 2, 312250, tzinfo=datetime.timezone.utc), status='PreSubmitted', message='', errorCode=0), TradeLogEntry(time=datetime.datetime(2022, 3, 27, 14, 31, 13, 437023, tzinfo=datetime.timezone.utc), status='PendingCancel', message='', errorCode=0)])"
      ]
     },
     "execution_count": 10,
     "metadata": {},
     "output_type": "execute_result"
    }
   ],
   "source": [
    "ib.cancelOrder(order)"
   ]
  },
  {
   "cell_type": "code",
   "execution_count": 11,
   "metadata": {},
   "outputs": [
    {
     "data": {
      "text/plain": [
       "[TradeLogEntry(time=datetime.datetime(2022, 3, 27, 14, 29, 57, 526910, tzinfo=datetime.timezone.utc), status='PendingSubmit', message='', errorCode=0),\n",
       " TradeLogEntry(time=datetime.datetime(2022, 3, 27, 14, 30, 2, 312250, tzinfo=datetime.timezone.utc), status='PreSubmitted', message='', errorCode=0),\n",
       " TradeLogEntry(time=datetime.datetime(2022, 3, 27, 14, 31, 13, 437023, tzinfo=datetime.timezone.utc), status='PendingCancel', message='', errorCode=0),\n",
       " TradeLogEntry(time=datetime.datetime(2022, 3, 27, 14, 31, 13, 936153, tzinfo=datetime.timezone.utc), status='Cancelled', message='', errorCode=0)]"
      ]
     },
     "execution_count": 11,
     "metadata": {},
     "output_type": "execute_result"
    }
   ],
   "source": [
    "trade.log"
   ]
  },
  {
   "cell_type": "code",
   "execution_count": 12,
   "metadata": {},
   "outputs": [],
   "source": [
    "order2 = LimitOrder('BUY', 100, 1.00)\n",
    "trade2 = ib.placeOrder(contract, order2)"
   ]
  },
  {
   "cell_type": "code",
   "execution_count": 13,
   "metadata": {},
   "outputs": [],
   "source": [
    "order2.lmtPrice = 1.15"
   ]
  },
  {
   "cell_type": "code",
   "execution_count": 14,
   "metadata": {},
   "outputs": [
    {
     "data": {
      "text/plain": [
       "Trade(contract=Forex('EURUSD', exchange='IDEALPRO'), order=LimitOrder(orderId=4, clientId=1, permId=1208980823, action='BUY', totalQuantity=100.0, lmtPrice=1.15, auxPrice=0.0), orderStatus=OrderStatus(orderId=4, status='PreSubmitted', filled=0.0, remaining=100.0, avgFillPrice=0.0, permId=1208980823, parentId=0, lastFillPrice=0.0, clientId=1, whyHeld='', mktCapPrice=0.0), fills=[], log=[TradeLogEntry(time=datetime.datetime(2022, 3, 27, 14, 39, 20, 372187, tzinfo=datetime.timezone.utc), status='PendingSubmit', message='', errorCode=0), TradeLogEntry(time=datetime.datetime(2022, 3, 27, 14, 39, 20, 501042, tzinfo=datetime.timezone.utc), status='PreSubmitted', message='', errorCode=0), TradeLogEntry(time=datetime.datetime(2022, 3, 27, 14, 40, 11, 330451, tzinfo=datetime.timezone.utc), status='PreSubmitted', message='Modify', errorCode=0)])"
      ]
     },
     "execution_count": 14,
     "metadata": {},
     "output_type": "execute_result"
    }
   ],
   "source": [
    "ib.placeOrder(contract, order2)"
   ]
  },
  {
   "cell_type": "code",
   "execution_count": 17,
   "metadata": {},
   "outputs": [],
   "source": [
    "trade3 = LimitOrder('SELL', 1, 2.55)\n",
    "trade3 = ib.placeOrder(contract, trade3)"
   ]
  },
  {
   "cell_type": "code",
   "execution_count": 18,
   "metadata": {},
   "outputs": [
    {
     "data": {
      "text/plain": [
       "[TradeLogEntry(time=datetime.datetime(2022, 3, 27, 14, 41, 51, 725117, tzinfo=datetime.timezone.utc), status='PendingSubmit', message='', errorCode=0),\n",
       " TradeLogEntry(time=datetime.datetime(2022, 3, 27, 14, 41, 51, 878705, tzinfo=datetime.timezone.utc), status='PreSubmitted', message='', errorCode=0)]"
      ]
     },
     "execution_count": 18,
     "metadata": {},
     "output_type": "execute_result"
    }
   ],
   "source": [
    "trade3.log"
   ]
  },
  {
   "cell_type": "code",
   "execution_count": 20,
   "metadata": {},
   "outputs": [
    {
     "data": {
      "text/plain": [
       "[LimitOrder(orderId=4, clientId=1, permId=1208980823, action='BUY', totalQuantity=100.0, lmtPrice=1.15, auxPrice=0.0),\n",
       " LimitOrder(orderId=7, clientId=1, permId=1208980827, action='SELL', totalQuantity=1.0, lmtPrice=2.55, auxPrice=0.0)]"
      ]
     },
     "execution_count": 20,
     "metadata": {},
     "output_type": "execute_result"
    }
   ],
   "source": [
    "ib.openOrders()"
   ]
  },
  {
   "cell_type": "code",
   "execution_count": 21,
   "metadata": {},
   "outputs": [
    {
     "data": {
      "text/plain": [
       "[LimitOrder(orderId=3, clientId=1, permId=1208980821, action='BUY', totalQuantity=100.0, lmtPrice=1.11, auxPrice=0.0),\n",
       " LimitOrder(orderId=4, clientId=1, permId=1208980823, action='BUY', totalQuantity=100.0, lmtPrice=1.15, auxPrice=0.0),\n",
       " LimitOrder(orderId=5, clientId=1, permId=1208980824, action='SELL', totalQuantity=1.0, lmtPrice=2.55, auxPrice=0.0),\n",
       " LimitOrder(orderId=6, clientId=1, permId=1208980825, action='SELL', totalQuantity=1.0, lmtPrice=2.55, auxPrice=0.0),\n",
       " LimitOrder(orderId=7, clientId=1, permId=1208980827, action='SELL', totalQuantity=1.0, lmtPrice=2.55, auxPrice=0.0)]"
      ]
     },
     "execution_count": 21,
     "metadata": {},
     "output_type": "execute_result"
    }
   ],
   "source": [
    "ib.orders()"
   ]
  },
  {
   "cell_type": "code",
   "execution_count": 33,
   "metadata": {},
   "outputs": [],
   "source": [
    "test_order = MarketOrder('BUY', 1)"
   ]
  },
  {
   "cell_type": "code",
   "execution_count": 34,
   "metadata": {},
   "outputs": [],
   "source": [
    "test_trade = ib.placeOrder(contract, test_order)"
   ]
  },
  {
   "cell_type": "code",
   "execution_count": 35,
   "metadata": {},
   "outputs": [
    {
     "data": {
      "text/plain": [
       "[LimitOrder(orderId=4, clientId=1, permId=1208980823, action='BUY', totalQuantity=100.0, lmtPrice=1.15, auxPrice=0.0),\n",
       " LimitOrder(orderId=7, clientId=1, permId=1208980827, action='SELL', totalQuantity=1.0, lmtPrice=2.55, auxPrice=0.0),\n",
       " MarketOrder(orderId=9, clientId=1, permId=1208980832, action='BUY', totalQuantity=100.0, lmtPrice=0.0, auxPrice=0.0),\n",
       " MarketOrder(orderId=10, clientId=1, permId=1208980839, action='BUY', totalQuantity=1.0, lmtPrice=0.0, auxPrice=0.0)]"
      ]
     },
     "execution_count": 35,
     "metadata": {},
     "output_type": "execute_result"
    }
   ],
   "source": [
    "ib.openOrders()"
   ]
  },
  {
   "cell_type": "code",
   "execution_count": 31,
   "metadata": {},
   "outputs": [
    {
     "data": {
      "text/plain": [
       "[LimitOrder(orderId=3, clientId=1, permId=1208980821, action='BUY', totalQuantity=100.0, lmtPrice=1.11, auxPrice=0.0),\n",
       " LimitOrder(orderId=4, clientId=1, permId=1208980823, action='BUY', totalQuantity=100.0, lmtPrice=1.15, auxPrice=0.0),\n",
       " LimitOrder(orderId=5, clientId=1, permId=1208980824, action='SELL', totalQuantity=1.0, lmtPrice=2.55, auxPrice=0.0),\n",
       " LimitOrder(orderId=6, clientId=1, permId=1208980825, action='SELL', totalQuantity=1.0, lmtPrice=2.55, auxPrice=0.0),\n",
       " LimitOrder(orderId=7, clientId=1, permId=1208980827, action='SELL', totalQuantity=1.0, lmtPrice=2.55, auxPrice=0.0),\n",
       " MarketOrder(orderId=8, clientId=1, permId=1208980828, action='BUY', totalQuantity=100.0, lmtPrice=0.0, auxPrice=0.0),\n",
       " MarketOrder(orderId=9, clientId=1, permId=1208980832, action='BUY', totalQuantity=100.0, lmtPrice=0.0, auxPrice=0.0)]"
      ]
     },
     "execution_count": 31,
     "metadata": {},
     "output_type": "execute_result"
    }
   ],
   "source": [
    "ib.orders()"
   ]
  },
  {
   "cell_type": "code",
   "execution_count": 32,
   "metadata": {},
   "outputs": [
    {
     "data": {
      "text/plain": [
       "'PreSubmitted'"
      ]
     },
     "execution_count": 32,
     "metadata": {},
     "output_type": "execute_result"
    }
   ],
   "source": [
    "test_trade.orderStatus.status"
   ]
  },
  {
   "cell_type": "code",
   "execution_count": 36,
   "metadata": {},
   "outputs": [
    {
     "data": {
      "text/plain": [
       "[TradeLogEntry(time=datetime.datetime(2022, 3, 27, 14, 50, 3, 951711, tzinfo=datetime.timezone.utc), status='PendingSubmit', message='', errorCode=0),\n",
       " TradeLogEntry(time=datetime.datetime(2022, 3, 27, 14, 50, 4, 102817, tzinfo=datetime.timezone.utc), status='PreSubmitted', message='', errorCode=0)]"
      ]
     },
     "execution_count": 36,
     "metadata": {},
     "output_type": "execute_result"
    }
   ],
   "source": [
    "test_trade.log # PreSubmitted because market closed"
   ]
  },
  {
   "cell_type": "markdown",
   "metadata": {},
   "source": [
    "### Cannot go forward because example the order must be filled"
   ]
  },
  {
   "cell_type": "code",
   "execution_count": null,
   "metadata": {},
   "outputs": [],
   "source": [
    "# xxx"
   ]
  }
 ],
 "metadata": {
  "interpreter": {
   "hash": "f429fc236fe3e2d1bcbb6920ad39ffc2c5a603fce270cfd84bcd11de59e02ffc"
  },
  "kernelspec": {
   "display_name": "Python 3.8.12 ('investing')",
   "language": "python",
   "name": "python3"
  },
  "language_info": {
   "codemirror_mode": {
    "name": "ipython",
    "version": 3
   },
   "file_extension": ".py",
   "mimetype": "text/x-python",
   "name": "python",
   "nbconvert_exporter": "python",
   "pygments_lexer": "ipython3",
   "version": "3.8.12"
  },
  "orig_nbformat": 4
 },
 "nbformat": 4,
 "nbformat_minor": 2
}
