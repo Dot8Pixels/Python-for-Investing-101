{
 "cells": [
  {
   "cell_type": "code",
   "execution_count": 1,
   "metadata": {},
   "outputs": [],
   "source": [
    "import ccxt\n",
    "import numpy as np\n",
    "import time\n",
    "from datetime import datetime\n",
    "import schedule\n",
    "import pandas as pd\n",
    "import pandas_ta as ta\n",
    "import sys\n",
    "pd.set_option('display.max_rows', None)"
   ]
  },
  {
   "cell_type": "code",
   "execution_count": 2,
   "metadata": {},
   "outputs": [],
   "source": [
    "sys.path.append(r'C:\\Users\\gunsr\\Desktop\\Programming\\Git_Remote\\Investic\\Python-for-Investing-101\\Global_Config')\n",
    "import api_key\n",
    "bn_key = api_key.binance_api_key\n",
    "bn_secret = api_key.binance_api_secret"
   ]
  },
  {
   "cell_type": "code",
   "execution_count": 3,
   "metadata": {},
   "outputs": [],
   "source": [
    "exchange = ccxt.binance({\n",
    "    'apiKey' : bn_key,\n",
    "    'secret' : bn_secret\n",
    "})"
   ]
  },
  {
   "cell_type": "code",
   "execution_count": 5,
   "metadata": {},
   "outputs": [],
   "source": [
    "def strategy(df):\n",
    "    df['ema'] = ta.ema(df['close'], length=5)\n",
    "    df['sma'] = ta.sma(df['close'], length=5)\n",
    "    df['signal'] = df['ema'] > df['sma']"
   ]
  },
  {
   "cell_type": "code",
   "execution_count": 6,
   "metadata": {},
   "outputs": [],
   "source": [
    "def get_realtime(coin='DOGE/USDT', tf='1m', initial_bar=20, fetch_new=True):\n",
    "    global bars, df, new_df\n",
    "\n",
    "    bars = exchange.fetch_ohlcv(coin, timeframe=tf, limit=initial_bar)\n",
    "    df = pd.DataFrame(bars, columns=['timestamp', 'open', 'high', 'low', 'close', 'volume'])\n",
    "    df['timestamp'] = pd.to_datetime(df['timestamp'], unit='ms')\n",
    "    df = df[:19]\n",
    "    strategy(df)\n",
    "\n",
    "    # fetch_new = True\n",
    "\n",
    "    if fetch_new == True:\n",
    "        bars2 = exchange.fetch_ohlcv(coin, timeframe=tf, limit=1)\n",
    "        data = pd.DataFrame(bars2, columns=['timestamp', 'open', 'high', 'low', 'close', 'volume'])\n",
    "        data['timestamp'] = pd.to_datetime(data['timestamp'], unit='ms')\n",
    "        new_df = pd.concat([df, data])\n",
    "\n",
    "        new_df['ema'].iloc[-1] = ta.ema(new_df['close'][-5:], length=5).iloc[-1]\n",
    "        new_df['sma'].iloc[-1] = ta.sma(new_df['close'][-5:], length=5).iloc[-1]\n",
    "        new_df['signal'].iloc[-1] = new_df['ema'].iloc[-1] > new_df['sma'].iloc[-1]\n",
    "\n",
    "        signal = new_df.iloc[-1, -1]\n",
    "        pre_sig = new_df.iloc[-2, -1]\n",
    "\n",
    "        if (signal == True) & (pre_sig == False):\n",
    "            print('buy successful')\n",
    "            # exchange.create_order('DOGE/USDT', 'market', 'buy', 35)\n",
    "            print(f\"'DOGE/USDT', 'market', 'buy', 35\")\n",
    "\n",
    "        elif (signal == False) & (pre_sig == True):\n",
    "            print('sell successful')\n",
    "            # exchange.create_order('DOGE/USDT', 'market', 'sell', 35)\n",
    "            print(f\"'DOGE/USDT', 'market', 'sell', 35\")"
   ]
  },
  {
   "cell_type": "code",
   "execution_count": 8,
   "metadata": {},
   "outputs": [
    {
     "data": {
      "text/plain": [
       "Every 60 seconds do get_realtime() (last run: [never], next run: 2022-04-12 10:21:28)"
      ]
     },
     "execution_count": 8,
     "metadata": {},
     "output_type": "execute_result"
    }
   ],
   "source": [
    "schedule.every(60).seconds.do(get_realtime)"
   ]
  },
  {
   "cell_type": "code",
   "execution_count": 9,
   "metadata": {},
   "outputs": [
    {
     "ename": "KeyboardInterrupt",
     "evalue": "",
     "output_type": "error",
     "traceback": [
      "\u001b[1;31m---------------------------------------------------------------------------\u001b[0m",
      "\u001b[1;31mKeyboardInterrupt\u001b[0m                         Traceback (most recent call last)",
      "\u001b[1;32mc:\\Users\\gunsr\\Desktop\\Programming\\Git Remote\\Investic\\Python-for-Investing-101\\execution_loop_with_ccxt.ipynb Cell 7'\u001b[0m in \u001b[0;36m<module>\u001b[1;34m\u001b[0m\n\u001b[0;32m      <a href='vscode-notebook-cell:/c%3A/Users/gunsr/Desktop/Programming/Git%20Remote/Investic/Python-for-Investing-101/execution_loop_with_ccxt.ipynb#ch0000006?line=0'>1</a>\u001b[0m \u001b[39mwhile\u001b[39;00m \u001b[39mTrue\u001b[39;00m:\n\u001b[0;32m      <a href='vscode-notebook-cell:/c%3A/Users/gunsr/Desktop/Programming/Git%20Remote/Investic/Python-for-Investing-101/execution_loop_with_ccxt.ipynb#ch0000006?line=1'>2</a>\u001b[0m     schedule\u001b[39m.\u001b[39mrun_pending()\n\u001b[1;32m----> <a href='vscode-notebook-cell:/c%3A/Users/gunsr/Desktop/Programming/Git%20Remote/Investic/Python-for-Investing-101/execution_loop_with_ccxt.ipynb#ch0000006?line=2'>3</a>\u001b[0m     time\u001b[39m.\u001b[39;49msleep(\u001b[39m1\u001b[39;49m)\n",
      "\u001b[1;31mKeyboardInterrupt\u001b[0m: "
     ]
    }
   ],
   "source": [
    "while True:\n",
    "    schedule.run_pending()\n",
    "    time.sleep(1)"
   ]
  },
  {
   "cell_type": "code",
   "execution_count": null,
   "metadata": {},
   "outputs": [],
   "source": []
  }
 ],
 "metadata": {
  "interpreter": {
   "hash": "f429fc236fe3e2d1bcbb6920ad39ffc2c5a603fce270cfd84bcd11de59e02ffc"
  },
  "kernelspec": {
   "display_name": "Python 3.8.12 ('investing')",
   "language": "python",
   "name": "python3"
  },
  "language_info": {
   "codemirror_mode": {
    "name": "ipython",
    "version": 3
   },
   "file_extension": ".py",
   "mimetype": "text/x-python",
   "name": "python",
   "nbconvert_exporter": "python",
   "pygments_lexer": "ipython3",
   "version": "3.8.12"
  },
  "orig_nbformat": 4
 },
 "nbformat": 4,
 "nbformat_minor": 2
}
